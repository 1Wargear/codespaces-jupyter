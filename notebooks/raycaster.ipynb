{
 "cells": [
  {
   "cell_type": "code",
   "execution_count": 4,
   "metadata": {},
   "outputs": [],
   "source": [
    "import pygame as pg\n",
    "import pygame.gfxdraw\n",
    "\n",
    "pg.init()\n",
    "pg.display.set_caption(\"Raycaster\")\n",
    "screen = pg.display.set_mode((840, 480))\n",
    "clock = pg.time.Clock()\n",
    "\n",
    "map = [\n",
    "    [1,1,1,1,1,1,1,1,1,1,1,1,1,1,1],\n",
    "    [1,0,0,0,0,0,0,0,0,0,0,0,0,0,1],\n",
    "    [1,0,0,0,0,0,0,0,1,1,1,0,0,0,1],\n",
    "    [1,0,0,0,0,0,0,0,1,1,1,0,0,0,1],\n",
    "    [1,0,0,0,0,0,0,0,1,1,1,0,0,0,1],\n",
    "    [1,0,0,0,0,0,0,0,0,0,0,0,0,0,1],\n",
    "    [1,0,0,0,0,0,0,0,0,0,0,0,0,0,1],\n",
    "    [1,0,0,0,0,0,0,0,0,0,0,0,0,0,1],\n",
    "    [1,0,0,0,0,0,0,2,0,0,0,0,0,0,1],\n",
    "    [1,0,0,0,0,0,0,0,0,0,0,0,0,0,1],\n",
    "    [1,0,0,0,0,0,0,0,0,0,0,0,0,0,1],\n",
    "    [1,0,0,0,0,0,0,0,0,0,0,0,0,0,1],\n",
    "    [1,1,1,1,1,1,1,1,1,1,1,1,1,1,1]\n",
    "]\n",
    "\n",
    "isRunning = True\n",
    "while isRunning:\n",
    "\n",
    "    pg.gfxdraw.pixel(screen, 5, 5, (255,255,255))\n",
    "\n",
    "    pg.display.update()\n",
    "    clock.tick(16)\n",
    "\n",
    "    for e in pg.event.get():\n",
    "        if e.type == pg.QUIT:\n",
    "            pg.quit()\n",
    "            isRunning = False\n",
    "            "
   ]
  }
 ],
 "metadata": {
  "kernelspec": {
   "display_name": "pygame",
   "language": "python",
   "name": "python3"
  },
  "language_info": {
   "codemirror_mode": {
    "name": "ipython",
    "version": 3
   },
   "file_extension": ".py",
   "mimetype": "text/x-python",
   "name": "python",
   "nbconvert_exporter": "python",
   "pygments_lexer": "ipython3",
   "version": "3.11.7"
  }
 },
 "nbformat": 4,
 "nbformat_minor": 2
}
