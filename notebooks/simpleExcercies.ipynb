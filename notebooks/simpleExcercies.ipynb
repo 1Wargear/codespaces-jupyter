{
 "cells": [
  {
   "cell_type": "code",
   "execution_count": 5,
   "metadata": {},
   "outputs": [
    {
     "name": "stdout",
     "output_type": "stream",
     "text": [
      "Hello World\n"
     ]
    }
   ],
   "source": [
    "print('Hello World')"
   ]
  },
  {
   "cell_type": "markdown",
   "metadata": {},
   "source": [
    "# Prime Numbers\n",
    "A simple Programm to find all Prime-Numbers between 3 and 100"
   ]
  },
  {
   "cell_type": "code",
   "execution_count": 6,
   "metadata": {},
   "outputs": [
    {
     "name": "stdout",
     "output_type": "stream",
     "text": [
      "1 is a prime number\n",
      "3 is a prime number\n",
      "5 is a prime number\n",
      "7 is a prime number\n",
      "11 is a prime number\n",
      "13 is a prime number\n",
      "17 is a prime number\n",
      "19 is a prime number\n",
      "23 is a prime number\n",
      "29 is a prime number\n",
      "31 is a prime number\n",
      "37 is a prime number\n",
      "41 is a prime number\n",
      "43 is a prime number\n",
      "47 is a prime number\n",
      "53 is a prime number\n",
      "59 is a prime number\n",
      "61 is a prime number\n",
      "67 is a prime number\n",
      "71 is a prime number\n",
      "73 is a prime number\n",
      "79 is a prime number\n",
      "83 is a prime number\n",
      "89 is a prime number\n",
      "97 is a prime number\n"
     ]
    }
   ],
   "source": [
    "def isPrime(x):\n",
    "    # Test all event Numbers\n",
    "    if x % 2 == 0:\n",
    "        return False\n",
    "    else:\n",
    "        # if not even Test all numbers to the number weather it divides cleanly\n",
    "        for n in range(3, x, 2):\n",
    "            if x % n == 0:\n",
    "                return False\n",
    "        \n",
    "    # if this part is reached it is a prime number\n",
    "    return True\n",
    "\n",
    "# --- Entry Point ---\n",
    "for i in range(3, 100):\n",
    "    if isPrime(i):\n",
    "        print(f\"{i} is a prime number\")"
   ]
  },
  {
   "cell_type": "markdown",
   "metadata": {},
   "source": [
    "## Calculating the Fibonacci number at index 10\n",
    "\n",
    "1. With a Recursive funktion all\n",
    "2. With a Loop"
   ]
  },
  {
   "cell_type": "code",
   "execution_count": 8,
   "metadata": {},
   "outputs": [
    {
     "name": "stdout",
     "output_type": "stream",
     "text": [
      "fib_rec(10) = 55\n",
      "fib_loop(10) = 55\n"
     ]
    }
   ],
   "source": [
    "def fib_rec(x):\n",
    "    if x == 1 or x == 2:\n",
    "        return 1\n",
    "    \n",
    "    return fib_rec(x-1) + fib_rec(x-2)\n",
    "\n",
    "def fib_loop(x):\n",
    "    a = 0\n",
    "    b = 1\n",
    "    for i in range(1, x):\n",
    "        c = a + b\n",
    "        a = b\n",
    "        b = c\n",
    "\n",
    "    return b\n",
    "\n",
    "print(f\"fib_rec(10) = {fib_rec(10)}\")\n",
    "print(f\"fib_loop(10) = {fib_loop(10)}\")"
   ]
  },
  {
   "cell_type": "markdown",
   "metadata": {},
   "source": [
    "## Sorting with insertion sort"
   ]
  },
  {
   "cell_type": "code",
   "execution_count": 13,
   "metadata": {},
   "outputs": [
    {
     "name": "stdout",
     "output_type": "stream",
     "text": [
      "[4, 7, 3, 5, 0, 9, 1, 8, 2, 6]\n",
      "[0, 1, 2, 3, 4, 5, 6, 7, 8, 9]\n"
     ]
    }
   ],
   "source": [
    "def insort(arr):\n",
    "    for i in range(len(arr)-1):\n",
    "        if arr[i] > arr[i + 1]:\n",
    "            swap = arr[i]\n",
    "            arr[i] = arr[i+1]\n",
    "            arr[i+1] = swap\n",
    "            for j in range(i):\n",
    "                k = i - j\n",
    "                if arr[k - 1] > arr[k]:\n",
    "                    swap2 = arr[k - 1]\n",
    "                    arr[k - 1] = arr[k]\n",
    "                    arr[k] = swap2\n",
    "\n",
    "    return arr\n",
    "\n",
    "\n",
    "\n",
    "array = [4,7,3,5,0,9,1,8,2,6]\n",
    "print(array)\n",
    "sorted = insort(array)\n",
    "print(sorted)\n"
   ]
  }
 ],
 "metadata": {
  "kernelspec": {
   "display_name": "bkfht",
   "language": "python",
   "name": "bkfht"
  },
  "language_info": {
   "codemirror_mode": {
    "name": "ipython",
    "version": 3
   },
   "file_extension": ".py",
   "mimetype": "text/x-python",
   "name": "python",
   "nbconvert_exporter": "python",
   "pygments_lexer": "ipython3",
   "version": "3.10.7"
  }
 },
 "nbformat": 4,
 "nbformat_minor": 2
}
