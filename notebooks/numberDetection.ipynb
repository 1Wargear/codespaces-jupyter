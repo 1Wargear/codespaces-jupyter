{
 "cells": [
  {
   "cell_type": "markdown",
   "metadata": {},
   "source": [
    "# Number Detector\n",
    "\n",
    "The goal of this little Project is to get familiar with PyTorch to create machine learning models. For this simple introduction I am going to use the following Dataset of hand painted Numbers between 0 and 9, to Train Test and Validate the MLM.\n",
    "\n",
    "Dataset: https://github.com/SebLague/Mnist-data-numpy-format"
   ]
  },
  {
   "cell_type": "code",
   "execution_count": 40,
   "metadata": {},
   "outputs": [],
   "source": [
    "import numpy as np\n",
    "import torch\n",
    "from torch.utils.data import TensorDataset, DataLoader\n",
    "\n",
    "netPath = \"../models/numberDetection.pth\"\n",
    "dataPath = \"../data/Mnist-HanddrawnNumbers-Dataset/mnist.npz\"\n",
    "data = np.load(dataPath)\n",
    "\n",
    "trainImg = data[\"training_images\"]\n",
    "trainLbl = data[\"training_labels\"]\n",
    "testImg = data[\"test_images\"]\n",
    "testLbl = data[\"test_labels\"]\n",
    "valiImg = data[\"validation_images\"]\n",
    "valiLbl = data[\"validation_labels\"]\n",
    "\n",
    "t_trainImg = torch.tensor(trainImg)\n",
    "t_trainLbl = torch.tensor(np.reshape(trainLbl, [50000,10]))   \n",
    "t_testImg = torch.tensor(testImg)\n",
    "t_testLbl = torch.tensor(np.reshape(testLbl, [10000, 10]))\n",
    "t_valiImg = torch.tensor(valiImg)\n",
    "t_valiLbl = torch.tensor(np.reshape(valiLbl, [10000, 10]))\n",
    "\n",
    "trainDS = DataLoader(TensorDataset(t_trainImg, t_trainLbl))\n",
    "testDS = DataLoader(TensorDataset(t_testImg, t_testLbl))\n",
    "valiDS = DataLoader(TensorDataset(t_valiImg, t_valiLbl))"
   ]
  },
  {
   "cell_type": "markdown",
   "metadata": {},
   "source": [
    "## Creating the Neural Network\n",
    "\n",
    "The next step after Loading the Data is to create the Layers of the Neural Network"
   ]
  },
  {
   "cell_type": "code",
   "execution_count": 10,
   "metadata": {},
   "outputs": [],
   "source": [
    "import torch\n",
    "import torch.nn as nn\n",
    "import torch.nn.functional as F\n",
    "\n",
    "class MyNet(nn.Module):\n",
    "    def __init__(self):\n",
    "        super().__init__()\n",
    "        self.flatt = nn.Flatten()\n",
    "        self.lrs = nn.Sequential(\n",
    "            nn.Linear(784, 256),\n",
    "            nn.ReLU(),\n",
    "            nn.Linear(256, 256),\n",
    "            nn.ReLU(),\n",
    "            nn.Linear(256, 10)\n",
    "        )\n",
    "        self.double()\n",
    "\n",
    "    def forward(self, elem):\n",
    "        elem = torch.flatten(elem)\n",
    "        out = self.lrs(elem)\n",
    "        return F.normalize(out, dim=0)\n",
    "    \n",
    "net = MyNet()\n",
    "\n"
   ]
  },
  {
   "cell_type": "markdown",
   "metadata": {},
   "source": [
    "## Training"
   ]
  },
  {
   "cell_type": "code",
   "execution_count": 11,
   "metadata": {},
   "outputs": [
    {
     "name": "stderr",
     "output_type": "stream",
     "text": [
      "EPOCH: (1/2): 100%|██████████| 50000/50000 [02:14<00:00, 371.04it/s]\n",
      "EPOCH: (2/2): 100%|██████████| 50000/50000 [02:11<00:00, 378.79it/s]\n"
     ]
    }
   ],
   "source": [
    "from tqdm import tqdm\n",
    "import torch.optim as optim\n",
    "\n",
    "optimizer = optim.SGD(net.parameters(), 0.01, 0.5)\n",
    "celoss = nn.CrossEntropyLoss()\n",
    "\n",
    "EPOCHS = 2\n",
    "for e in range(EPOCHS):\n",
    "    loss = 0.0\n",
    "    for i, d in enumerate(tqdm(trainDS, f\"EPOCH: ({e + 1}/{EPOCHS})\")):\n",
    "        img, lbl = d\n",
    "        optimizer.zero_grad()\n",
    "        out = net.forward(img)\n",
    "        loss = celoss(out, lbl[0])\n",
    "        loss.backward()\n",
    "        optimizer.step()\n",
    "\n",
    "torch.save(net.state_dict(), netPath)\n"
   ]
  },
  {
   "cell_type": "markdown",
   "metadata": {},
   "source": [
    "## Testing the Network\n",
    "\n",
    "Hear the Network will be tested againt the Test-Set to determine its efficancy"
   ]
  },
  {
   "cell_type": "code",
   "execution_count": 233,
   "metadata": {},
   "outputs": [],
   "source": []
  },
  {
   "cell_type": "markdown",
   "metadata": {},
   "source": [
    "## Validating the Network\n",
    "\n",
    "In this part a Random image of the Validation-Set will be analysed by the NN and a output is displayed to the user"
   ]
  },
  {
   "cell_type": "code",
   "execution_count": 232,
   "metadata": {},
   "outputs": [
    {
     "name": "stdout",
     "output_type": "stream",
     "text": [
      "Prediction: 6 (94.84%)\n",
      "Value: 6\n"
     ]
    }
   ],
   "source": [
    "import random\n",
    "\n",
    "net = MyNet()\n",
    "net.load_state_dict(torch.load(netPath))\n",
    "\n",
    "def TestImage(idx):\n",
    "    res = net(t_valiImg[idx])\n",
    "    npres = res.detach().numpy()\n",
    "    print(f\"Prediction: {np.where(npres == max(npres))[0][0]} ({round(max(npres)*100, 2)}%)\")\n",
    "    nplbl = t_valiLbl[idx].detach().numpy()\n",
    "    print(f\"Value: {np.where(nplbl == 1)[0][0]}\")\n",
    "\n",
    "TestImage(random.randint(0, 10000))"
   ]
  }
 ],
 "metadata": {
  "kernelspec": {
   "display_name": "pytorch",
   "language": "python",
   "name": "python3"
  },
  "language_info": {
   "codemirror_mode": {
    "name": "ipython",
    "version": 3
   },
   "file_extension": ".py",
   "mimetype": "text/x-python",
   "name": "python",
   "nbconvert_exporter": "python",
   "pygments_lexer": "ipython3",
   "version": "3.11.5"
  }
 },
 "nbformat": 4,
 "nbformat_minor": 2
}
