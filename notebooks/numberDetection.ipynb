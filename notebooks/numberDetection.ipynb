{
 "cells": [
  {
   "cell_type": "markdown",
   "metadata": {},
   "source": [
    "# Number Detector\n",
    "\n",
    "The goal of this little Project is to get familiar with PyTorch to create machine learning models. For this simple introduction I am going to use the following Dataset of hand painted Numbers between 0 and 9, to Train Test and Validate the MLM.\n",
    "\n",
    "Dataset: https://github.com/SebLague/Mnist-data-numpy-format"
   ]
  },
  {
   "cell_type": "code",
   "execution_count": 9,
   "metadata": {},
   "outputs": [],
   "source": [
    "import numpy as np\n",
    "import torch\n",
    "from torch.utils.data import TensorDataset, DataLoader\n",
    "\n",
    "dataPath = \"../data/Mnist-HanddrawnNumbers-Dataset/mnist.npz\"\n",
    "data = np.load(dataPath)\n",
    "\n",
    "trainImg = data[\"training_images\"]\n",
    "trainLbl = data[\"training_labels\"]\n",
    "testImg = data[\"test_images\"]\n",
    "testLbl = data[\"test_labels\"]\n",
    "valiImg = data[\"validation_images\"]\n",
    "valiLbl = data[\"validation_labels\"]\n",
    "\n",
    "t_trainImg = torch.tensor(trainImg)\n",
    "t_trainLbl = torch.tensor(trainLbl)   \n",
    "t_testImg = torch.tensor(testImg)\n",
    "t_testLbl = torch.tensor(testLbl)\n",
    "t_valiImg = torch.tensor(valiImg)\n",
    "t_valiLbl = torch.tensor(valiLbl)\n",
    "\n",
    "trainDS = DataLoader(TensorDataset(t_trainImg, t_trainLbl))\n",
    "testDS = DataLoader(TensorDataset(t_testImg, t_testLbl))\n",
    "valiDS = DataLoader(TensorDataset(t_valiImg, t_valiLbl))"
   ]
  },
  {
   "cell_type": "markdown",
   "metadata": {},
   "source": [
    "## Creating the Neural Network\n",
    "\n",
    "The next step after Loading the Data is to create the Layers of the Neural Network"
   ]
  },
  {
   "cell_type": "code",
   "execution_count": 2,
   "metadata": {},
   "outputs": [],
   "source": [
    "import torch\n",
    "import torch.nn as nn\n",
    "\n",
    "class MyNet(nn.Module):\n",
    "    def __init__(self):\n",
    "        super().__init__()\n",
    "        self.conv1 = nn.Conv2d(29, 9, 5)\n",
    "        self.pool = nn.MaxPool2d(1)\n",
    "\n",
    "\n",
    "    def forward(self, elem):\n",
    "        elem = torch.flatten(elem, 1)\n",
    "        return elem\n",
    "    \n",
    "net = MyNet()\n",
    "\n"
   ]
  },
  {
   "cell_type": "markdown",
   "metadata": {},
   "source": [
    "## Training"
   ]
  },
  {
   "cell_type": "code",
   "execution_count": 10,
   "metadata": {},
   "outputs": [
    {
     "name": "stderr",
     "output_type": "stream",
     "text": [
      "EPOCH: (-1/2): 100%|██████████| 50000/50000 [00:08<00:00, 6085.97it/s]\n",
      "EPOCH: (0/2): 100%|██████████| 50000/50000 [00:08<00:00, 6047.65it/s]\n"
     ]
    }
   ],
   "source": [
    "from tqdm import tqdm\n",
    "\n",
    "EPOCHS = 2\n",
    "for e in range(EPOCHS):\n",
    "    loss = 0.0\n",
    "    for i, d in enumerate(tqdm(trainDS, f\"EPOCH: ({e + 1}/{EPOCHS})\")):\n",
    "        img, lbl = d\n"
   ]
  }
 ],
 "metadata": {
  "kernelspec": {
   "display_name": "pytorch",
   "language": "python",
   "name": "python3"
  },
  "language_info": {
   "codemirror_mode": {
    "name": "ipython",
    "version": 3
   },
   "file_extension": ".py",
   "mimetype": "text/x-python",
   "name": "python",
   "nbconvert_exporter": "python",
   "pygments_lexer": "ipython3",
   "version": "3.11.5"
  }
 },
 "nbformat": 4,
 "nbformat_minor": 2
}
