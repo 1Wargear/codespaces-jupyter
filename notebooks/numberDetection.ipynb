{
 "cells": [
  {
   "cell_type": "markdown",
   "metadata": {},
   "source": [
    "# Number Detector\n",
    "\n",
    "The goal of this little Project is to get familiar with PyTorch to create machine learning models. For this simple introduction I am going to use the following Dataset of hand painted Numbers between 0 and 9, to Train Test and Validate the MLM.\n",
    "\n",
    "Dataset: https://github.com/SebLague/Mnist-data-numpy-format"
   ]
  },
  {
   "cell_type": "code",
   "execution_count": 7,
   "metadata": {},
   "outputs": [],
   "source": [
    "import numpy as np\n",
    "import torch\n",
    "\n",
    "dataPath = \"../data/Mnist-HanddrawnNumbers-Dataset/mnist.npz\"\n",
    "data = np.load(dataPath)\n",
    "\n",
    "trainImg = data[\"training_images\"]\n",
    "trainLbl = data[\"training_labels\"]\n",
    "testImg = data[\"test_images\"]\n",
    "testLbl = data[\"test_labels\"]\n",
    "valiImg = data[\"validation_images\"]\n",
    "valiLbl = data[\"validation_labels\"]\n",
    "\n",
    "t_trainImg = torch.tensor(trainImg)\n",
    "t_trainLbl = torch.tensor(trainLbl)\n",
    "t_testImg = torch.tensor(testImg)\n",
    "t_testLbl = torch.tensor(testLbl)\n",
    "t_valiImg = torch.tensor(valiImg)\n",
    "t_valiLbl = torch.tensor(valiLbl)\n"
   ]
  }
 ],
 "metadata": {
  "kernelspec": {
   "display_name": "pytorch",
   "language": "python",
   "name": "python3"
  },
  "language_info": {
   "codemirror_mode": {
    "name": "ipython",
    "version": 3
   },
   "file_extension": ".py",
   "mimetype": "text/x-python",
   "name": "python",
   "nbconvert_exporter": "python",
   "pygments_lexer": "ipython3",
   "version": "3.11.5"
  }
 },
 "nbformat": 4,
 "nbformat_minor": 2
}
