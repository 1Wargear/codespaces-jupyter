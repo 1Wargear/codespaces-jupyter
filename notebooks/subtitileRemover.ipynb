{
 "cells": [
  {
   "cell_type": "markdown",
   "metadata": {},
   "source": [
    "# Subtitle Remover\n",
    "\n",
    "Goal was to create a routine to remove Hardcoded subtitles in a Video file.\n",
    "This uses Open-CV-python or Open Computer Vision for Python"
   ]
  },
  {
   "cell_type": "code",
   "execution_count": 2,
   "metadata": {},
   "outputs": [
    {
     "name": "stdout",
     "output_type": "stream",
     "text": [
      "True\n"
     ]
    }
   ],
   "source": [
    "import numpy as np\n",
    "import cv2\n",
    "\n",
    "img = cv2.imread(\"../../subtitleChanger/Sharpe.png\")\n",
    "\n",
    "def hasSubTitle(img):\n",
    "    hsv = cv2.cvtColor(img, cv2.COLOR_BGR2HSV)\n",
    "    mx = np.max(hsv[1])\n",
    "    return mx >= 255\n",
    "\n",
    "print(hasSubTitle(img))"
   ]
  },
  {
   "cell_type": "markdown",
   "metadata": {},
   "source": [
    "## Removing the Subtitile\n",
    "\n",
    "using a Blur mask and a Fill"
   ]
  },
  {
   "cell_type": "code",
   "execution_count": 3,
   "metadata": {},
   "outputs": [
    {
     "ename": "error",
     "evalue": "OpenCV(4.6.0) C:\\b\\abs_f8n1j3l9l0\\croot\\opencv-suite_1691622637237\\work\\modules\\highgui\\src\\window.cpp:1267: error: (-2:Unspecified error) The function is not implemented. Rebuild the library with Windows, GTK+ 2.x or Cocoa support. If you are on Ubuntu or Debian, install libgtk2.0-dev and pkg-config, then re-run cmake or configure script in function 'cvShowImage'\n",
     "output_type": "error",
     "traceback": [
      "\u001b[1;31m---------------------------------------------------------------------------\u001b[0m",
      "\u001b[1;31merror\u001b[0m                                     Traceback (most recent call last)",
      "Cell \u001b[1;32mIn[3], line 15\u001b[0m\n\u001b[0;32m     12\u001b[0m     cv2\u001b[38;5;241m.\u001b[39mimshow(\u001b[38;5;124m\"\u001b[39m\u001b[38;5;124mImage\u001b[39m\u001b[38;5;124m\"\u001b[39m, cv2\u001b[38;5;241m.\u001b[39minpaint(img, mask,\u001b[38;5;241m3\u001b[39m,cv2\u001b[38;5;241m.\u001b[39mINPAINT_TELEA))\n\u001b[0;32m     14\u001b[0m img \u001b[38;5;241m=\u001b[39m cv2\u001b[38;5;241m.\u001b[39mimread(\u001b[38;5;124m\"\u001b[39m\u001b[38;5;124m../../subtitleChanger/Sharpe.png\u001b[39m\u001b[38;5;124m\"\u001b[39m)\n\u001b[1;32m---> 15\u001b[0m \u001b[43mremoveSubTitle\u001b[49m\u001b[43m(\u001b[49m\u001b[43mimg\u001b[49m\u001b[43m,\u001b[49m\u001b[43m \u001b[49m\u001b[38;5;241;43m240\u001b[39;49m\u001b[43m)\u001b[49m\n",
      "Cell \u001b[1;32mIn[3], line 12\u001b[0m, in \u001b[0;36mremoveSubTitle\u001b[1;34m(img, t)\u001b[0m\n\u001b[0;32m      9\u001b[0m     ret, mask \u001b[38;5;241m=\u001b[39m cv2\u001b[38;5;241m.\u001b[39mthreshold(maskblur,t,\u001b[38;5;241m255\u001b[39m,cv2\u001b[38;5;241m.\u001b[39mTHRESH_BINARY)\n\u001b[0;32m     11\u001b[0m ret, mask \u001b[38;5;241m=\u001b[39m cv2\u001b[38;5;241m.\u001b[39mthreshold(maskblur,t,\u001b[38;5;241m255\u001b[39m,cv2\u001b[38;5;241m.\u001b[39mTHRESH_BINARY_INV)\n\u001b[1;32m---> 12\u001b[0m \u001b[43mcv2\u001b[49m\u001b[38;5;241;43m.\u001b[39;49m\u001b[43mimshow\u001b[49m\u001b[43m(\u001b[49m\u001b[38;5;124;43m\"\u001b[39;49m\u001b[38;5;124;43mImage\u001b[39;49m\u001b[38;5;124;43m\"\u001b[39;49m\u001b[43m,\u001b[49m\u001b[43m \u001b[49m\u001b[43mcv2\u001b[49m\u001b[38;5;241;43m.\u001b[39;49m\u001b[43minpaint\u001b[49m\u001b[43m(\u001b[49m\u001b[43mimg\u001b[49m\u001b[43m,\u001b[49m\u001b[43m \u001b[49m\u001b[43mmask\u001b[49m\u001b[43m,\u001b[49m\u001b[38;5;241;43m3\u001b[39;49m\u001b[43m,\u001b[49m\u001b[43mcv2\u001b[49m\u001b[38;5;241;43m.\u001b[39;49m\u001b[43mINPAINT_TELEA\u001b[49m\u001b[43m)\u001b[49m\u001b[43m)\u001b[49m\n",
      "\u001b[1;31merror\u001b[0m: OpenCV(4.6.0) C:\\b\\abs_f8n1j3l9l0\\croot\\opencv-suite_1691622637237\\work\\modules\\highgui\\src\\window.cpp:1267: error: (-2:Unspecified error) The function is not implemented. Rebuild the library with Windows, GTK+ 2.x or Cocoa support. If you are on Ubuntu or Debian, install libgtk2.0-dev and pkg-config, then re-run cmake or configure script in function 'cvShowImage'\n"
     ]
    }
   ],
   "source": [
    "def removeSubTitle(img, t):\n",
    "    gray = cv2.cvtColor(img, cv2.COLOR_BGR2GRAY)\n",
    "    ret, thresh = cv2.threshold(gray,t,255,cv2.THRESH_BINARY_INV)\n",
    "    maskblur = cv2.GaussianBlur(thresh, (5,5), 0)\n",
    "    ret, mask = cv2.threshold(maskblur,t,255,cv2.THRESH_BINARY)\n",
    "    mask1 = mask\n",
    "    for i in range(5):\n",
    "        maskblur = cv2.GaussianBlur(mask, (5,5), 0)\n",
    "        ret, mask = cv2.threshold(maskblur,t,255,cv2.THRESH_BINARY)\n",
    "\n",
    "    ret, mask = cv2.threshold(maskblur,t,255,cv2.THRESH_BINARY_INV)\n",
    "    cv2.imshow(\"Image\", cv2.inpaint(img, mask,3,cv2.INPAINT_TELEA))\n",
    "\n",
    "img = cv2.imread(\"../../subtitleChanger/Sharpe.png\")\n",
    "removeSubTitle(img, 240)"
   ]
  },
  {
   "cell_type": "markdown",
   "metadata": {},
   "source": [
    "## Opening FFMPEG-Pipe\n",
    "\n",
    "FFMPEG wille be used to open the Video and Stream it Frame by Frame throu the Processor and re compress it afterwards."
   ]
  },
  {
   "cell_type": "code",
   "execution_count": null,
   "metadata": {},
   "outputs": [],
   "source": [
    "import subprocess as sp\n",
    "\n",
    "FFMPEG_BIN = \"ffmpeg\"\n",
    "\n",
    "def openRead(input:str):\n",
    "    command = [ FFMPEG_BIN,\n",
    "                '-i', input,\n",
    "                '-f', 'image2pipe',\n",
    "                '-pix_fmt', 'rgb24',\n",
    "                '-vcodec', 'rawvideo', '-']\n",
    "    return sp.Popen(command, stdout = sp.PIPE, bufsize=10**8)\n",
    "\n",
    "def openWrite(output:str, size:str, fps:str):\n",
    "    command = [ FFMPEG_BIN,\n",
    "        '-y', # (optional) overwrite output file if it exists\n",
    "        '-f', 'rawvideo',\n",
    "        '-vcodec','rawvideo',\n",
    "        '-s', size, # size of one frame\n",
    "        '-pix_fmt', 'rgb24',\n",
    "        '-r', fps, # frames per second\n",
    "        '-i', '-', # The imput comes from a pipe\n",
    "        '-an', # Tells FFMPEG not to expect any audio\n",
    "        output ]\n",
    "\n",
    "    print(command)\n",
    "\n",
    "    return sp.Popen( command, stdin=sp.PIPE, stderr=sp.PIPE)"
   ]
  },
  {
   "cell_type": "markdown",
   "metadata": {},
   "source": [
    "## Multithrading"
   ]
  },
  {
   "cell_type": "code",
   "execution_count": 4,
   "metadata": {},
   "outputs": [
    {
     "name": "stdout",
     "output_type": "stream",
     "text": [
      "7\n"
     ]
    }
   ],
   "source": [
    "import tqdm\n",
    "from threading import Thread\n",
    "\n",
    "frames = []\n",
    "threads = []\n",
    "threadCount = 4\n",
    "\n",
    "class MTStream:\n",
    "    def __init__(self, inF, outF):\n",
    "        self.inFunc = inF\n",
    "        self.outFunc = outF\n",
    "        for i in range(threadCount):\n",
    "            t = Thread(target=self.workThread, args=frames[i])\n",
    "            threads.append(t)\n",
    "            frames.append([])\n",
    "            t.start()\n",
    "\n",
    "        t = Thread(target=self.combThread, args=self)\n",
    "        t.start()\n",
    "\n",
    "    def start(self, arg):\n",
    "        idx = 0\n",
    "        for i in tqdm(self.inFunc(arg)):\n",
    "            frames[idx % threadCount].append({\"i\": idx, \"f\":i, \"s\":False})\n",
    "            idx += 1\n",
    "\n",
    "    def workThread(myfrm):\n",
    "        for i in myfrm:\n",
    "            if i[\"s\"] is not False:\n",
    "                if hasSubTitle(i[\"f\"]):\n",
    "                    removeSubTitle(i[\"f\"])\n",
    "                i[\"s\"] = True\n",
    "    \n",
    "    def combThread(self):\n",
    "        while frames.count(lambda f: f[\"s\"] == False) > 0:\n",
    "            pass\n",
    "\n",
    "        for i in sorted(frames, lambda f: f[\"i\"]):\n",
    "            self.outFunc(i[\"f\"])\n",
    "                \n"
   ]
  },
  {
   "cell_type": "markdown",
   "metadata": {},
   "source": [
    "## Combinding Funktions"
   ]
  },
  {
   "cell_type": "code",
   "execution_count": null,
   "metadata": {},
   "outputs": [],
   "source": [
    "from tqdm import tqdm\n",
    "\n",
    "sharpeFPS = 25\n",
    "sharpeWidth = 1280\n",
    "sharpeHight = 720\n",
    "sharpeSTThreshold = 240 # threshold: tune this number to your needs\n",
    "sharpeFile = \"./Sharpe.mp4\"\n",
    "sharpeFileOut = \"./SharpeNew.mp4\"\n",
    "sharpeLength = 6056\n",
    "\n",
    "pipeOut = openWrite(sharpeFileOut, f\"{sharpeWidth}x{sharpeHight}\", f\"{sharpeFPS}\")\n",
    "\n",
    "pipeIn = openRead(sharpeFile)\n",
    "buffSize = sharpeWidth * sharpeHight * 3\n",
    "frameCount = sharpeLength * sharpeFPS\n",
    "\n",
    "for i in tqdm(range(frameCount)):\n",
    "    buff = pipeIn.stdout.read(buffSize)\n",
    "    image = np.frombuffer(buff, dtype='uint8')\n",
    "    out = image = np.reshape(image, (sharpeHight, sharpeWidth, 3))\n",
    "\n",
    "    if hasSubTitle(image):\n",
    "        out = removeSubTitle(image, sharpeSTThreshold)\n",
    "\n",
    "    out = np.reshape(out, buffSize)\n",
    "    pipeOut.stdin.write(out.tobytes())"
   ]
  }
 ],
 "metadata": {
  "kernelspec": {
   "display_name": "pytorch",
   "language": "python",
   "name": "python3"
  },
  "language_info": {
   "codemirror_mode": {
    "name": "ipython",
    "version": 3
   },
   "file_extension": ".py",
   "mimetype": "text/x-python",
   "name": "python",
   "nbconvert_exporter": "python",
   "pygments_lexer": "ipython3",
   "version": "3.11.7"
  }
 },
 "nbformat": 4,
 "nbformat_minor": 2
}
