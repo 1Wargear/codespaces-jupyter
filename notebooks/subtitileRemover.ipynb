{
 "cells": [
  {
   "cell_type": "markdown",
   "metadata": {},
   "source": [
    "# Subtitle Remover\n",
    "\n",
    "Goal was to create a routine to remove Hardcoded subtitles in a Video file.\n",
    "This uses Open-CV-python or Open Computer Vision for Python"
   ]
  },
  {
   "cell_type": "code",
   "execution_count": null,
   "metadata": {},
   "outputs": [],
   "source": [
    "import numpy as np\n",
    "import cv2\n",
    "\n",
    "img = cv2.imread(\"./Sharpe.png\")\n",
    "\n",
    "def hasSubTitle(img):\n",
    "    hsv = cv2.cvtColor(img, cv2.COLOR_BGR2HSV)\n",
    "    mx = np.max(hsv[1])\n",
    "    return mx >= 255\n",
    "\n",
    "print(hasSubTitle(img))"
   ]
  },
  {
   "cell_type": "markdown",
   "metadata": {},
   "source": [
    "## Removing the Subtitile\n",
    "\n",
    "using a Blur mask and a Fill"
   ]
  },
  {
   "cell_type": "code",
   "execution_count": null,
   "metadata": {},
   "outputs": [],
   "source": [
    "def removeSubTitle(img, t):\n",
    "    gray = cv2.cvtColor(img, cv2.COLOR_BGR2GRAY)\n",
    "    ret, thresh = cv2.threshold(gray,t,255,cv2.THRESH_BINARY_INV)\n",
    "    maskblur = cv2.GaussianBlur(thresh, (5,5), 0)\n",
    "    ret, mask = cv2.threshold(maskblur,t,255,cv2.THRESH_BINARY)\n",
    "    mask1 = mask\n",
    "    for i in range(5):\n",
    "        maskblur = cv2.GaussianBlur(mask, (5,5), 0)\n",
    "        ret, mask = cv2.threshold(maskblur,t,255,cv2.THRESH_BINARY)\n",
    "\n",
    "    ret, mask = cv2.threshold(maskblur,t,255,cv2.THRESH_BINARY_INV)\n",
    "    cv2.imshow(\"Image\", cv2.inpaint(img, mask,3,cv2.INPAINT_TELEA))\n",
    "\n",
    "img = cv2.imread(\"./Sharpe.png\")\n",
    "removeSubTitle(img, 240)"
   ]
  }
 ],
 "metadata": {
  "language_info": {
   "name": "python"
  }
 },
 "nbformat": 4,
 "nbformat_minor": 2
}
